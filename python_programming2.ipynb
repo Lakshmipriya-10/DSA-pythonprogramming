{
  "nbformat": 4,
  "nbformat_minor": 0,
  "metadata": {
    "colab": {
      "provenance": []
    },
    "kernelspec": {
      "name": "python3",
      "display_name": "Python 3"
    },
    "language_info": {
      "name": "python"
    }
  },
  "cells": [
    {
      "cell_type": "markdown",
      "source": [
        "**1.Write a Python program to accept a string value from the user and display the count of each character in that string**"
      ],
      "metadata": {
        "id": "mZTqyc_6xhUN"
      }
    },
    {
      "cell_type": "code",
      "execution_count": 1,
      "metadata": {
        "colab": {
          "base_uri": "https://localhost:8080/"
        },
        "id": "1FTyulEXxZS9",
        "outputId": "76a3e05b-b277-4484-d956-4b4e6b1f82ca"
      },
      "outputs": [
        {
          "output_type": "stream",
          "name": "stdout",
          "text": [
            "Enter a string:\tachu\n",
            "{'a': 1, 'c': 1, 'h': 1, 'u': 1}\n"
          ]
        }
      ],
      "source": [
        "input_string=input(\"Enter a string:\\t\")\n",
        "char_count={}\n",
        "for char in input_string:\n",
        "  if char in char_count:\n",
        "    char_count[char] += 1\n",
        "  else:\n",
        "    char_count[char] =1\n",
        "print(char_count)\n",
        "\n"
      ]
    },
    {
      "cell_type": "markdown",
      "source": [
        "**2.Write a Python function to find the maximum of three numbers Sample**"
      ],
      "metadata": {
        "id": "14Hk_iizxfUp"
      }
    },
    {
      "cell_type": "code",
      "source": [
        "\n",
        "def max(num1,num2,num3):\n",
        "  if num1>num2 and num1>num3:\n",
        "    return num1\n",
        "  elif num2>num1 and num2>num3:\n",
        "     return num2\n",
        "  else:\n",
        "      return num3\n",
        "num1=float(input(\"Enter the first number:\"))\n",
        "num2=float(input(\"Enter the second number:\"))\n",
        "num3=float(input(\"Enter the third number:\"))\n",
        "print(\"max\",max(num1,num2,num3))\n",
        "\n"
      ],
      "metadata": {
        "colab": {
          "base_uri": "https://localhost:8080/"
        },
        "id": "fADtreY3_KQU",
        "outputId": "1888a04a-682f-48f4-e31e-b3b08cab19fa"
      },
      "execution_count": 2,
      "outputs": [
        {
          "output_type": "stream",
          "name": "stdout",
          "text": [
            "Enter the first number:34\n",
            "Enter the second number:12\n",
            "Enter the third number:7\n",
            "max 34.0\n"
          ]
        }
      ]
    },
    {
      "cell_type": "markdown",
      "source": [
        "**3.Write a Python function called exponent(base,exp) that returns an\n",
        "integer value of base raises to the power of exp. S**"
      ],
      "metadata": {
        "id": "YDU5AsT3PEQc"
      }
    },
    {
      "cell_type": "code",
      "source": [
        "\n",
        "def exponent(exp,base):\n",
        "   exp_calcu=exp**base\n",
        "   return(exp_calcu)\n",
        "exp=int(input(\"Enter the base\\t\"))\n",
        "base=int(input(\"Enter the exponent\\t\"))\n",
        "print(\"answer:\",exponent(exp,base))\n",
        "\n",
        "\n",
        "\n",
        "\n"
      ],
      "metadata": {
        "id": "YkSeh999PJXx",
        "colab": {
          "base_uri": "https://localhost:8080/"
        },
        "outputId": "b7543b75-4414-4564-b6b3-33e3c9a6d5fe"
      },
      "execution_count": null,
      "outputs": [
        {
          "output_type": "stream",
          "name": "stdout",
          "text": [
            "Enter the base2\n",
            "Enter the exponent3\n",
            "answer: 8\n"
          ]
        }
      ]
    },
    {
      "cell_type": "markdown",
      "source": [
        "**4. Write a Python function that takes a positive integer and returns the sum\n",
        "of the cube of all the positive integers smaller than the specified number**"
      ],
      "metadata": {
        "id": "5aK92iDwToOP"
      }
    },
    {
      "cell_type": "code",
      "source": [
        "def sum_of_cubes(n):\n",
        "    if n <= 0:\n",
        "        return \"Please enter a positive integer greater than zero.\"\n",
        "\n",
        "    sum_cubes = 0\n",
        "    for i in range(1, n):\n",
        "        sum_cubes += i ** 3\n",
        "\n",
        "    return sum_cubes\n",
        "\n",
        "num = int(input(\"Enter a positive integer: \"))\n",
        "result = sum_of_cubes(num)\n",
        "print(\"The sum of cubes of all positive integers less than :\" , result)"
      ],
      "metadata": {
        "id": "wrKfDTAlXvIx",
        "colab": {
          "base_uri": "https://localhost:8080/"
        },
        "outputId": "77d25cf0-c66e-4dfb-f7bd-0044923b36d4"
      },
      "execution_count": 3,
      "outputs": [
        {
          "output_type": "stream",
          "name": "stdout",
          "text": [
            "Enter a positive integer: 4\n",
            "The sum of cubes of all positive integers less than : 36\n"
          ]
        }
      ]
    },
    {
      "cell_type": "markdown",
      "source": [
        "**5.Write a Python program which iterates from 1 to 10. For multiples of 2,\n",
        "print “Fizz” instead of the number and for the multiples of 5, print “Buzz”.\n",
        "For numbers which are multiples of both 2 and 5, print “FizzBuzz”.**"
      ],
      "metadata": {
        "id": "JnLGV6xyRnDc"
      }
    },
    {
      "cell_type": "code",
      "source": [
        "def fizz_buzz():\n",
        "    for num in range(1, 11):\n",
        "        if num % 2 == 0 and num % 5 == 0:\n",
        "            print(\"FizzBuzz\")\n",
        "        elif num % 2 == 0:\n",
        "            print(\"Fizz\")\n",
        "        elif num % 5 == 0:\n",
        "            print(\"Buzz\")\n",
        "        else:\n",
        "            print(num)\n",
        "\n",
        "fizz_buzz()"
      ],
      "metadata": {
        "colab": {
          "base_uri": "https://localhost:8080/"
        },
        "id": "9cCiwuckRyC4",
        "outputId": "68fcf454-deeb-4197-9636-a348c42c1164"
      },
      "execution_count": null,
      "outputs": [
        {
          "output_type": "stream",
          "name": "stdout",
          "text": [
            "1\n",
            "Fizz\n",
            "3\n",
            "Fizz\n",
            "Buzz\n",
            "Fizz\n",
            "7\n",
            "Fizz\n",
            "9\n",
            "FizzBuzz\n"
          ]
        }
      ]
    },
    {
      "cell_type": "markdown",
      "source": [
        "**6.Write a Python program to find the most frequent item in a list of\n",
        "numbers.**"
      ],
      "metadata": {
        "id": "YUARVItqMzZX"
      }
    },
    {
      "cell_type": "code",
      "source": [
        "def freequent(numbers):\n",
        "    max_count = 0\n",
        "    frequent_num = None\n",
        "\n",
        "    for num in numbers:\n",
        "        count = numbers.count(num)\n",
        "        if count > max_count:\n",
        "            max_count = count\n",
        "            frequent_num = num\n",
        "\n",
        "    return frequent_num\n",
        "numbers = [1, 3, 6, 3, 7, 3, 1, 2, 7, 1, 3, 5, 3]\n",
        "result = freequent(numbers)\n",
        "print(\"The most frequent item in the list is:\" , result)\n",
        "\n",
        "\n",
        "\n"
      ],
      "metadata": {
        "colab": {
          "base_uri": "https://localhost:8080/"
        },
        "id": "cr96TnHdM6o_",
        "outputId": "af0b6ebd-1a64-45a7-b14d-feeafcbe3b14"
      },
      "execution_count": 4,
      "outputs": [
        {
          "output_type": "stream",
          "name": "stdout",
          "text": [
            "The most frequent item in the list is: 3\n"
          ]
        }
      ]
    },
    {
      "cell_type": "markdown",
      "source": [
        "**7. Write a Python program to find the sum of squares of the numbers in a\n",
        "list.**"
      ],
      "metadata": {
        "id": "ib6MzgmdP_Wo"
      }
    },
    {
      "cell_type": "code",
      "source": [
        "def sum_of_squares(numbers):\n",
        "    sum_squares = 0\n",
        "\n",
        "    for num in numbers:\n",
        "        num_int = int(num)\n",
        "        sum_squares += num_int ** 2\n",
        "\n",
        "    return sum_squares\n",
        "\n",
        "input_numbers = input(\"Enter numbers separated by spaces: \")\n",
        "numbers = [int(num) for num in input_numbers.split(' ')]\n",
        "\n",
        "result = sum_of_squares(numbers)\n",
        "print(\"The sum of squares of the numbers is: \" ,result)\n"
      ],
      "metadata": {
        "colab": {
          "base_uri": "https://localhost:8080/"
        },
        "id": "roGOKYPcNxf_",
        "outputId": "0a4b2664-0552-4ad6-e8fc-eb5446e9d242"
      },
      "execution_count": 5,
      "outputs": [
        {
          "output_type": "stream",
          "name": "stdout",
          "text": [
            "Enter numbers separated by spaces: 2 1 3 1\n",
            "The sum of squares of the numbers is:  15\n"
          ]
        }
      ]
    },
    {
      "cell_type": "markdown",
      "source": [
        "**8.Write a Python program using for loop that will iterate from 1 to 15. For\n",
        "each iteration, check if the current number is odd or even, and display the\n",
        "message to the screen as odd or even.**"
      ],
      "metadata": {
        "id": "ZDP5tL3OQW7F"
      }
    },
    {
      "cell_type": "code",
      "source": [
        "def check(num):\n",
        "    if num % 2 == 0:\n",
        "        return \"even\"\n",
        "    else:\n",
        "        return \"odd\"\n",
        "\n",
        "for num in range(1, 16):\n",
        "    number= check(num)\n",
        "    print(f\"{num}-{number}\")"
      ],
      "metadata": {
        "colab": {
          "base_uri": "https://localhost:8080/"
        },
        "id": "YcfJkvfWNzcw",
        "outputId": "0863185a-56f1-417b-981d-6a08a689cded"
      },
      "execution_count": null,
      "outputs": [
        {
          "output_type": "stream",
          "name": "stdout",
          "text": [
            "1-odd\n",
            "2-even\n",
            "3-odd\n",
            "4-even\n",
            "5-odd\n",
            "6-even\n",
            "7-odd\n",
            "8-even\n",
            "9-odd\n",
            "10-even\n",
            "11-odd\n",
            "12-even\n",
            "13-odd\n",
            "14-even\n",
            "15-odd\n"
          ]
        }
      ]
    },
    {
      "cell_type": "markdown",
      "source": [
        "**9. Write a Python program to convert temperatures to and from Celsius\n",
        "Fahrenheit. [Formula: c/5=f-32/9 where c=temperature in Celsius and f=\n",
        "temperature in Fahrenheit.]**"
      ],
      "metadata": {
        "id": "e-BqpAitQqOF"
      }
    },
    {
      "cell_type": "code",
      "source": [
        "def convert(fahrenheit):\n",
        "    celsius = (fahrenheit - 32) * 5 / 9\n",
        "    return celsius\n",
        "\n",
        "fahrenheit = float(input(\"Temperature in Fahrenheit: \"))\n",
        "\n",
        "celsius = convert(fahrenheit)\n",
        "\n",
        "print(\"Temperature in Celsius:\" ,celsius)"
      ],
      "metadata": {
        "colab": {
          "base_uri": "https://localhost:8080/"
        },
        "id": "fVwF6bHtQ0Yd",
        "outputId": "d686b5fc-3c03-4a77-b444-b9992f7d1e27"
      },
      "execution_count": 6,
      "outputs": [
        {
          "output_type": "stream",
          "name": "stdout",
          "text": [
            "Temperature in Fahrenheit: 41\n",
            "Temperature in Celsius: 5.0\n"
          ]
        }
      ]
    },
    {
      "cell_type": "markdown",
      "source": [
        "**10. Write a Python function to calculate the factorial of a number (a\n",
        "nonnegative integer). The function accepts the number as an argument.**"
      ],
      "metadata": {
        "id": "9DBxpGp-RIt5"
      }
    },
    {
      "cell_type": "code",
      "source": [
        "def factorial(n):\n",
        "    if n < 0:\n",
        "        return \"negative numbers not allowed\"\n",
        "    elif n == 0:\n",
        "        return 1\n",
        "    else:\n",
        "        return n * factorial(n - 1)\n",
        "num = int(input(\"Enter a nonnegative integer: \"))\n",
        "fact = factorial(num)\n",
        "print(\"The factorial is:\",fact)"
      ],
      "metadata": {
        "colab": {
          "base_uri": "https://localhost:8080/"
        },
        "id": "eSBVsZ5RRSg0",
        "outputId": "032226f7-92af-4abf-a8de-495ced0b3b15"
      },
      "execution_count": null,
      "outputs": [
        {
          "output_type": "stream",
          "name": "stdout",
          "text": [
            "Enter a nonnegative integer: 3\n",
            "The factorial is: 6\n"
          ]
        }
      ]
    }
  ]
}