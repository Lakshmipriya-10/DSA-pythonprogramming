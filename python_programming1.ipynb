{
  "nbformat": 4,
  "nbformat_minor": 0,
  "metadata": {
    "colab": {
      "provenance": []
    },
    "kernelspec": {
      "name": "python3",
      "display_name": "Python 3"
    },
    "language_info": {
      "name": "python"
    }
  },
  "cells": [
    {
      "cell_type": "code",
      "execution_count": null,
      "metadata": {
        "id": "E5gJhFu9b58j"
      },
      "outputs": [],
      "source": []
    },
    {
      "cell_type": "markdown",
      "source": [
        "**1. \n",
        "and compute the area.**"
      ],
      "metadata": {
        "id": "XmF6MIA0cnYZ"
      }
    },
    {
      "cell_type": "code",
      "source": [
        "import numpy as np\n",
        "import pandas as pd\n",
        "r=int(input(\"enter radius\"))\n",
        "Area=3.14*r*r\n",
        "print(\"radius of circle =\", Area)"
      ],
      "metadata": {
        "colab": {
          "base_uri": "https://localhost:8080/"
        },
        "id": "utTXBiqicqyW",
        "outputId": "bf3c796b-879f-4118-f5bf-0375924363c3"
      },
      "execution_count": 1,
      "outputs": [
        {
          "output_type": "stream",
          "name": "stdout",
          "text": [
            "enter radius3\n",
            "radius of circle = 28.259999999999998\n"
          ]
        }
      ]
    },
    {
      "cell_type": "markdown",
      "source": [
        "**Write a Python Program to accept the details of a student like name, roll\n",
        "number and mark and display it.**"
      ],
      "metadata": {
        "id": "WbwbYkL0c1KZ"
      }
    },
    {
      "cell_type": "code",
      "source": [
        "Name=input(\"Enter Your Name:\")\n",
        "Rollno=int(input(\"Enter Your Rollno:\"))\n",
        "Mark=int(input(\"Enter Your Mark:\"))\n",
        "print(\"NAME:\",Name)\n",
        "print(\"ROLLNUMBER:\",Rollno)\n",
        "print(\"MARK:\",Mark)"
      ],
      "metadata": {
        "colab": {
          "base_uri": "https://localhost:8080/"
        },
        "id": "DHsBHjnEc9ub",
        "outputId": "d4f45d94-da7c-4747-8623-3a2791416bd5"
      },
      "execution_count": 2,
      "outputs": [
        {
          "output_type": "stream",
          "name": "stdout",
          "text": [
            "Enter Your Name:Anisha\n",
            "Enter Your Rollno:21\n",
            "Enter Your Mark:78\n",
            "NAME: Anisha\n",
            "ROLLNUMBER: 21\n",
            "MARK: 78\n"
          ]
        }
      ]
    },
    {
      "cell_type": "markdown",
      "source": [
        "**3. Write a Python program to get the largest number from a list.**"
      ],
      "metadata": {
        "id": "LO_eTXo4dNG8"
      }
    },
    {
      "cell_type": "code",
      "source": [
        "my_list=[12,3,47,10]\n",
        "largest = my_list[0]\n",
        "for num in my_list:\n",
        "    if num > largest:\n",
        "        largest = num\n",
        "\n",
        "print(\"largest number:\",largest)"
      ],
      "metadata": {
        "colab": {
          "base_uri": "https://localhost:8080/"
        },
        "id": "lviR_VRNdMpQ",
        "outputId": "4ae7d427-1602-4017-89b0-4741f02c243b"
      },
      "execution_count": 4,
      "outputs": [
        {
          "output_type": "stream",
          "name": "stdout",
          "text": [
            "largest number: 47\n"
          ]
        }
      ]
    },
    {
      "cell_type": "markdown",
      "source": [
        "**4. Given a range of first 10 numbers, write a Python program to iterate from\n",
        "start number to the end number and print the sum of the current number\n",
        "and previous number**"
      ],
      "metadata": {
        "id": "vF3I5WmXdtzG"
      }
    },
    {
      "cell_type": "code",
      "source": [
        "def sum(start, end):\n",
        "\n",
        "    prev_num = start - 1  #initialize prevnum as start-1\n",
        "\n",
        "    for curr_num in range(start, end + 1):\n",
        "\n",
        "        sum = prev_num + curr_num\n",
        "        print(\"previous number: \" ,prev_num)\n",
        "        print(\"current number: \" ,curr_num)\n",
        "        print(\"Sum of previous number and current number\",sum)\n",
        "        prev_num = curr_num\n",
        "\n",
        "start=int(input(\"enter starting number\"))\n",
        "end=int(input(\"enter ending number\"))\n",
        "\n",
        "sum(start,end)"
      ],
      "metadata": {
        "colab": {
          "base_uri": "https://localhost:8080/"
        },
        "id": "STFei5Bed52v",
        "outputId": "1d926309-7a12-4341-e7f6-a9ebc2b1ee29"
      },
      "execution_count": 5,
      "outputs": [
        {
          "output_type": "stream",
          "name": "stdout",
          "text": [
            "enter starting number1\n",
            "enter ending number10\n",
            "previous number:  0\n",
            "current number:  1\n",
            "Sum of previous number and current number 1\n",
            "previous number:  1\n",
            "current number:  2\n",
            "Sum of previous number and current number 3\n",
            "previous number:  2\n",
            "current number:  3\n",
            "Sum of previous number and current number 5\n",
            "previous number:  3\n",
            "current number:  4\n",
            "Sum of previous number and current number 7\n",
            "previous number:  4\n",
            "current number:  5\n",
            "Sum of previous number and current number 9\n",
            "previous number:  5\n",
            "current number:  6\n",
            "Sum of previous number and current number 11\n",
            "previous number:  6\n",
            "current number:  7\n",
            "Sum of previous number and current number 13\n",
            "previous number:  7\n",
            "current number:  8\n",
            "Sum of previous number and current number 15\n",
            "previous number:  8\n",
            "current number:  9\n",
            "Sum of previous number and current number 17\n",
            "previous number:  9\n",
            "current number:  10\n",
            "Sum of previous number and current number 19\n"
          ]
        }
      ]
    },
    {
      "cell_type": "markdown",
      "source": [
        "**5. Write a Python program to print only those numbers which are divisible\n",
        "of 5.**"
      ],
      "metadata": {
        "id": "jUq-9WuqeRgg"
      }
    },
    {
      "cell_type": "code",
      "source": [
        "numbers = input(\"Enter a list of numbers with spaces : \")\n",
        "numbers = numbers.split()\n",
        "div = []\n",
        "\n",
        "for num in numbers:\n",
        "    if int(num) % 5 == 0:\n",
        "        div.append(int(num))\n",
        "\n",
        "print(\"Numbers divisible by 5:\", div)"
      ],
      "metadata": {
        "colab": {
          "base_uri": "https://localhost:8080/"
        },
        "id": "9YWdYwKNeXcA",
        "outputId": "ed0b2d55-8f3b-4877-e11e-a41798df60b0"
      },
      "execution_count": 6,
      "outputs": [
        {
          "output_type": "stream",
          "name": "stdout",
          "text": [
            "Enter a list of numbers with spaces : 10 20 33 46 55\n",
            "Numbers divisible by 5: [10, 20, 55]\n"
          ]
        }
      ]
    },
    {
      "cell_type": "markdown",
      "source": [
        "**6. Write a Python program to check whether a number is prime or not.**"
      ],
      "metadata": {
        "id": "US01ksbIeo4d"
      }
    },
    {
      "cell_type": "code",
      "source": [
        "def prime(number):\n",
        "    if number <= 1:\n",
        "        return False\n",
        "    for i in range(2, number):  # Start from 2 up to number-1\n",
        "        if number % i == 0:\n",
        "            return False\n",
        "    return True\n",
        "\n",
        "num = int(input(\"Enter a number: \"))\n",
        "\n",
        "if prime(num):\n",
        "    print(\"prime number.\")\n",
        "else:\n",
        "    print(\"not a prime number.\")"
      ],
      "metadata": {
        "colab": {
          "base_uri": "https://localhost:8080/"
        },
        "id": "5xrhfA-TeslS",
        "outputId": "667aa71c-e6ba-4c44-912e-d958037f2a19"
      },
      "execution_count": 7,
      "outputs": [
        {
          "output_type": "stream",
          "name": "stdout",
          "text": [
            "Enter a number: 3\n",
            "prime number.\n"
          ]
        }
      ]
    },
    {
      "cell_type": "markdown",
      "source": [
        "**7. Write a Python program to reverse a list using for loop.7. Write a Python program to reverse a list using for loop.**\n"
      ],
      "metadata": {
        "id": "54bYSfNne3oV"
      }
    },
    {
      "cell_type": "code",
      "source": [
        "def reverse_list(lst):\n",
        "    reversed_list = []\n",
        "    for item in lst:\n",
        "        reversed_list.insert(0, item)\n",
        "    return reversed_list\n",
        "\n",
        "my_list = [10, 20, 30, 40, 50]\n",
        "reversed_list = reverse_list(my_list)\n",
        "print(\"Original list:\", my_list)\n",
        "print(\"Reversed list:\", reversed_list)"
      ],
      "metadata": {
        "colab": {
          "base_uri": "https://localhost:8080/"
        },
        "id": "VovYE2WNfIce",
        "outputId": "93b3ef82-df17-49cd-9557-ab0d43547b0f"
      },
      "execution_count": 8,
      "outputs": [
        {
          "output_type": "stream",
          "name": "stdout",
          "text": [
            "Original list: [10, 20, 30, 40, 50]\n",
            "Reversed list: [50, 40, 30, 20, 10]\n"
          ]
        }
      ]
    },
    {
      "cell_type": "markdown",
      "source": [
        "**8. Write a Python program to print the following pattern.\n",
        "*\n",
        "**\n",
        "***\n",
        "****"
      ],
      "metadata": {
        "id": "WQPS501DfOTl"
      }
    },
    {
      "cell_type": "code",
      "source": [
        "def print_star_pyramid(rows):\n",
        "    for i in range(1, rows + 1):\n",
        "        print('*' * i)\n",
        "\n",
        "rows = int(input(\"Enter the number of rows for the pyramid: \"))\n",
        "print_star_pyramid(rows)"
      ],
      "metadata": {
        "colab": {
          "base_uri": "https://localhost:8080/"
        },
        "id": "9wMp1BW4fd70",
        "outputId": "6b81b18b-ad13-4689-87f7-bcbd04c94f0f"
      },
      "execution_count": 9,
      "outputs": [
        {
          "output_type": "stream",
          "name": "stdout",
          "text": [
            "Enter the number of rows for the pyramid: 5\n",
            "*\n",
            "**\n",
            "***\n",
            "****\n",
            "*****\n"
          ]
        }
      ]
    },
    {
      "cell_type": "markdown",
      "source": [
        "**9. Write a Python program to find the maximum of three numbers**"
      ],
      "metadata": {
        "id": "-GOdSfPtfvT7"
      }
    },
    {
      "cell_type": "code",
      "source": [
        "def largestnum(num1, num2, num3):\n",
        "\n",
        "    if num1 > num2 and num1 > num3:\n",
        "        return num1\n",
        "    elif num2 > num1 and num2 > num3:\n",
        "        return num2\n",
        "    else:\n",
        "        return num3\n",
        "\n",
        "\n",
        "num1 = int(input(\"Enter first number: \"))\n",
        "num2 = int(input(\"Enter second number: \"))\n",
        "num3 = int(input(\"Enter third number: \"))\n",
        "\n",
        "largest = largestnum(num1, num2, num3)\n",
        "print(\"The largest number is: \", largest)"
      ],
      "metadata": {
        "colab": {
          "base_uri": "https://localhost:8080/"
        },
        "id": "b02VQ_0kfo9x",
        "outputId": "4129fbee-4bab-4f5d-ff23-965b7e2bedcc"
      },
      "execution_count": 10,
      "outputs": [
        {
          "output_type": "stream",
          "name": "stdout",
          "text": [
            "Enter first number: 34\n",
            "Enter second number: 12\n",
            "Enter third number: 7\n",
            "The largest number is:  34\n"
          ]
        }
      ]
    },
    {
      "cell_type": "markdown",
      "source": [
        "**10. Write a Python program to construct the following pattern, using a\n",
        "nested for loop.**\n"
      ],
      "metadata": {
        "id": "FkXJSRzdgHqh"
      }
    },
    {
      "cell_type": "code",
      "source": [
        "def print_star_pattern(rows):\n",
        "    for i in range(1, rows + 1):\n",
        "        print('*' * i)\n",
        "\n",
        "    for i in range(rows - 1, 0, -1):\n",
        "        print('*' * i)\n",
        "rows = 5\n",
        "print_star_pattern(rows)"
      ],
      "metadata": {
        "colab": {
          "base_uri": "https://localhost:8080/"
        },
        "id": "7-VzvvEjgMWl",
        "outputId": "0f77fd1a-725d-4339-e542-13078caa6f2c"
      },
      "execution_count": 11,
      "outputs": [
        {
          "output_type": "stream",
          "name": "stdout",
          "text": [
            "*\n",
            "**\n",
            "***\n",
            "****\n",
            "*****\n",
            "****\n",
            "***\n",
            "**\n",
            "*\n"
          ]
        }
      ]
    },
    {
      "cell_type": "markdown",
      "source": [],
      "metadata": {
        "id": "8ak4MUo5fuIh"
      }
    }
  ]
}
